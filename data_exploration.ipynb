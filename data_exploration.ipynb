{
 "cells": [
  {
   "cell_type": "code",
   "execution_count": null,
   "metadata": {},
   "outputs": [],
   "source": [
    "import numpy as np \n",
    "from data_mining import *\n",
    "import re\n",
    "from PIL import Image\n",
    "from collections import Counter\n",
    "from matplotlib import pyplot as plt\n",
    "from wordcloud import WordCloud, STOPWORDS, ImageColorGenerator"
   ]
  },
  {
   "cell_type": "code",
   "execution_count": null,
   "metadata": {},
   "outputs": [],
   "source": [
    "#Import data as .txt\n",
    "\n",
    "#Choose type of data\n",
    "types = ['10-K', 'DEF 14A']\n",
    "#Choose Companies\n",
    "tickers = ['AAPL'] #['AAPL', 'NFLX', 'MSFT', 'TSLA']\n",
    "#Choose number of years\n",
    "nb = 3\n",
    "#import data\n",
    "#import_data(nb, tickers, types, First=False)"
   ]
  },
  {
   "cell_type": "code",
   "execution_count": null,
   "metadata": {
    "tags": []
   },
   "outputs": [],
   "source": [
    "#Tokenize data\n",
    "\n",
    "#Get current path\n",
    "pa = os.getcwd().replace(\"\\\\\",\"/\")\n",
    "\n",
    "#Get list of stop words to exclude\n",
    "stopwords = open(pa + '/nonosquare.txt',encoding ='utf-8')\n",
    "stopwords_lines = stopwords.readlines()[0]\n",
    "sw = stopwords_lines.split(' ')\n",
    "\n",
    "#tokenize all text files\n",
    "for tick in tickers:\n",
    "    tick = tick.lower()\n",
    "    for year in range(2021-nb, 2021):\n",
    "        year = str(year)\n",
    "        for file_type in types:\n",
    "            text = open(pa + '/' + file_type + tick + year +'.txt',encoding ='utf-8')\n",
    "            tokenized = tokenize(text, sw)\n",
    "            #create dictionary and count words\n",
    "            count = Counter(tokenized)\n",
    "            #plot most common words per document\n",
    "            y = [count for tag, count in count.most_common(20)]\n",
    "            x = [tag for tag, count in count.most_common(20)]\n",
    "            plt.bar(x, y, color='crimson')\n",
    "            plt.title(\"Term frequencies in \"+tick.upper()+\" \"+year+\" \"+file_type)\n",
    "            plt.ylabel(\"Frequency (log scale)\")\n",
    "            plt.yscale('log') # optionally set a log scale for the y-axis\n",
    "            plt.xticks(rotation=90)\n",
    "            for i, (tag, count) in enumerate(count.most_common(20)):\n",
    "                plt.text(i, count, f' {count} ', rotation=90,\n",
    "                        ha='center', va='top' if i < 10 else 'bottom', color='white' if i < 10 else 'black')\n",
    "            plt.xlim(-0.6, len(x)-0.4) # optionally set tighter x lims\n",
    "            plt.tight_layout() # change the whitespace such that all labels fit nicely\n",
    "            plt.show()\n",
    "            "
   ]
  },
  {
   "cell_type": "code",
   "execution_count": null,
   "metadata": {},
   "outputs": [],
   "source": [
    "#Print Word Clouds\n",
    "mask = np.array(Image.open('pictures/Apple-logo.png'))\n",
    "for tick in tickers:\n",
    "    tick = tick.lower()\n",
    "    for year in range(2021-nb, 2021):\n",
    "        year = str(year)\n",
    "        for file_type in types:\n",
    "            text = open(pa + '/' + file_type + tick + year +'.txt',encoding ='utf-8')\n",
    "            #Print Word cloud\n",
    "            long_string = text.read().replace('\\n', '')\n",
    "            wordcloud = WordCloud(stopwords=sw, background_color=\"white\", mode=\"RGBA\", max_words=1000, mask=mask).generate(long_string)\n",
    "            image_colors = ImageColorGenerator(mask)\n",
    "            plt.figure(figsize=[7,7])\n",
    "            plt.imshow(wordcloud.recolor(color_func=image_colors), interpolation=\"bilinear\")\n",
    "            plt.axis(\"off\")\n",
    "            plt.show()"
   ]
  },
  {
   "cell_type": "code",
   "execution_count": null,
   "metadata": {
    "tags": [
     "outputPrepend"
    ]
   },
   "outputs": [],
   "source": []
  },
  {
   "cell_type": "code",
   "execution_count": null,
   "metadata": {},
   "outputs": [],
   "source": []
  }
 ],
 "metadata": {
  "kernelspec": {
   "name": "python390jvsc74a57bd063fd5069d213b44bf678585dea6b12cceca9941eaf7f819626cde1f2670de90d",
   "display_name": "Python 3.9.0 64-bit"
  },
  "language_info": {
   "name": "python",
   "version": "3.9.0"
  },
  "orig_nbformat": 2,
  "metadata": {
   "interpreter": {
    "hash": "63fd5069d213b44bf678585dea6b12cceca9941eaf7f819626cde1f2670de90d"
   }
  }
 },
 "nbformat": 4,
 "nbformat_minor": 2
}